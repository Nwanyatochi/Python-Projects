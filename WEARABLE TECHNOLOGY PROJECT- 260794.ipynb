{
 "cells": [
  {
   "cell_type": "markdown",
   "id": "e90766d6",
   "metadata": {},
   "source": [
    "# MACHINE LEARNING ALGORITHMS FOR DEVELOPING A HAND GESTURE RECOGNITION WEARABLE TECHNOLOGY"
   ]
  },
  {
   "cell_type": "markdown",
   "id": "c96e2f7c",
   "metadata": {},
   "source": [
    "The aim of this project is to develop a wearable device that accurately detects and classifies hand gestures using electromyography (EMG) data. Electromyography (EMG) data from the user's forearm will be collected by wearable technology sensors, which is then analyzed using machine learning algorithms and provide instantaneous detection and categorization of various hand gesture movements. The goal is to create a wearable technology proof of concept that demonstrates its viability and potential for use in a variety of fields, such as prosthetics, rehabilitation, human-machine interaction, gaming, and virtual reality."
   ]
  },
  {
   "cell_type": "markdown",
   "id": "b8189f4a",
   "metadata": {},
   "source": [
    "## LOADING THE DATASET"
   ]
  },
  {
   "cell_type": "code",
   "execution_count": 1,
   "id": "87f9949e",
   "metadata": {},
   "outputs": [],
   "source": [
    "import pandas as pd\n",
    "import numpy as np\n",
    "import os\n",
    "import seaborn as sns\n",
    "import matplotlib.pyplot as plt\n",
    "\n",
    "\n",
    "import warnings\n",
    "warnings.simplefilter('ignore')"
   ]
  },
  {
   "cell_type": "code",
   "execution_count": 2,
   "id": "50c1f314",
   "metadata": {},
   "outputs": [
    {
     "name": "stdout",
     "output_type": "stream",
     "text": [
      "   Time  Channel1  Channel2  Channel3  Channel4  Channel5  Channel6  Channel7  Channel8  Class  Subject\n",
      "0     1   0.00001  -0.00002  -0.00001  -0.00003   0.00000  -0.00001   0.00000  -0.00001    0.0        1\n",
      "1     5   0.00001  -0.00002  -0.00001  -0.00003   0.00000  -0.00001   0.00000  -0.00001    0.0        1\n",
      "2     6  -0.00001   0.00001   0.00002   0.00000   0.00001  -0.00002  -0.00001   0.00001    0.0        1\n",
      "3     7  -0.00001   0.00001   0.00002   0.00000   0.00001  -0.00002  -0.00001   0.00001    0.0        1\n",
      "4     8  -0.00001   0.00001   0.00002   0.00000   0.00001  -0.00002  -0.00001   0.00001    0.0        1\n"
     ]
    }
   ],
   "source": [
    "# Path to the main folder containing the gesture folders\n",
    "data_folder = 'C:\\\\Users\\\\PC\\\\Downloads\\\\EMG_data_for_gestures-master'\n",
    "\n",
    "# Create an empty dataframe to store the merged data\n",
    "merged_data = pd.DataFrame()\n",
    "\n",
    "# Iterate over the gesture folders\n",
    "for folder_name in os.listdir(data_folder):\n",
    "    folder_path = os.path.join(data_folder, folder_name)\n",
    "    if os.path.isdir(folder_path):\n",
    "        subject = int(folder_name)  # Since folder names are numbers\n",
    "        for file_name in os.listdir(folder_path):\n",
    "            if file_name.endswith('.txt'):\n",
    "                file_path = os.path.join(folder_path, file_name)\n",
    "                df = pd.read_csv(file_path, sep='\\t')  # Since the data is tab-separated\n",
    "                df['subject'] = subject\n",
    "                merged_data = merged_data.append(df, ignore_index=True)\n",
    "\n",
    "# Renaming the columns\n",
    "expected_columns = ['Time'] + [f'Channel{i}' for i in range(1, 9)] + ['Class', 'Subject']\n",
    "merged_data.columns = expected_columns\n",
    "\n",
    "# Reset the index\n",
    "merged_data.reset_index(drop=True, inplace=True)\n",
    "\n",
    "# Display the merged dataset\n",
    "pd.set_option('display.expand_frame_repr', False)\n",
    "print(merged_data.head())"
   ]
  },
  {
   "cell_type": "code",
   "execution_count": 3,
   "id": "95b91898",
   "metadata": {},
   "outputs": [
    {
     "data": {
      "text/html": [
       "<div>\n",
       "<style scoped>\n",
       "    .dataframe tbody tr th:only-of-type {\n",
       "        vertical-align: middle;\n",
       "    }\n",
       "\n",
       "    .dataframe tbody tr th {\n",
       "        vertical-align: top;\n",
       "    }\n",
       "\n",
       "    .dataframe thead th {\n",
       "        text-align: right;\n",
       "    }\n",
       "</style>\n",
       "<table border=\"1\" class=\"dataframe\">\n",
       "  <thead>\n",
       "    <tr style=\"text-align: right;\">\n",
       "      <th></th>\n",
       "      <th>Time</th>\n",
       "      <th>Channel1</th>\n",
       "      <th>Channel2</th>\n",
       "      <th>Channel3</th>\n",
       "      <th>Channel4</th>\n",
       "      <th>Channel5</th>\n",
       "      <th>Channel6</th>\n",
       "      <th>Channel7</th>\n",
       "      <th>Channel8</th>\n",
       "      <th>Class</th>\n",
       "      <th>Subject</th>\n",
       "    </tr>\n",
       "  </thead>\n",
       "  <tbody>\n",
       "    <tr>\n",
       "      <th>4237903</th>\n",
       "      <td>50962</td>\n",
       "      <td>0.00001</td>\n",
       "      <td>-0.00001</td>\n",
       "      <td>-0.00002</td>\n",
       "      <td>-0.00004</td>\n",
       "      <td>-0.00012</td>\n",
       "      <td>0.0</td>\n",
       "      <td>0.00002</td>\n",
       "      <td>0.00002</td>\n",
       "      <td>0.0</td>\n",
       "      <td>36</td>\n",
       "    </tr>\n",
       "    <tr>\n",
       "      <th>4237904</th>\n",
       "      <td>50963</td>\n",
       "      <td>0.00001</td>\n",
       "      <td>-0.00001</td>\n",
       "      <td>-0.00002</td>\n",
       "      <td>-0.00004</td>\n",
       "      <td>-0.00012</td>\n",
       "      <td>0.0</td>\n",
       "      <td>0.00002</td>\n",
       "      <td>0.00002</td>\n",
       "      <td>0.0</td>\n",
       "      <td>36</td>\n",
       "    </tr>\n",
       "    <tr>\n",
       "      <th>4237905</th>\n",
       "      <td>50964</td>\n",
       "      <td>0.00001</td>\n",
       "      <td>-0.00001</td>\n",
       "      <td>-0.00002</td>\n",
       "      <td>-0.00004</td>\n",
       "      <td>-0.00012</td>\n",
       "      <td>0.0</td>\n",
       "      <td>0.00002</td>\n",
       "      <td>0.00002</td>\n",
       "      <td>0.0</td>\n",
       "      <td>36</td>\n",
       "    </tr>\n",
       "    <tr>\n",
       "      <th>4237906</th>\n",
       "      <td>50965</td>\n",
       "      <td>0.00001</td>\n",
       "      <td>-0.00001</td>\n",
       "      <td>-0.00002</td>\n",
       "      <td>-0.00004</td>\n",
       "      <td>-0.00012</td>\n",
       "      <td>0.0</td>\n",
       "      <td>0.00002</td>\n",
       "      <td>0.00002</td>\n",
       "      <td>0.0</td>\n",
       "      <td>36</td>\n",
       "    </tr>\n",
       "    <tr>\n",
       "      <th>4237907</th>\n",
       "      <td>50966</td>\n",
       "      <td>0.00001</td>\n",
       "      <td>-0.00001</td>\n",
       "      <td>-0.00002</td>\n",
       "      <td>-0.00004</td>\n",
       "      <td>-0.00012</td>\n",
       "      <td>0.0</td>\n",
       "      <td>0.00002</td>\n",
       "      <td>0.00002</td>\n",
       "      <td>0.0</td>\n",
       "      <td>36</td>\n",
       "    </tr>\n",
       "  </tbody>\n",
       "</table>\n",
       "</div>"
      ],
      "text/plain": [
       "          Time  Channel1  Channel2  Channel3  Channel4  Channel5  Channel6  Channel7  Channel8  Class  Subject\n",
       "4237903  50962   0.00001  -0.00001  -0.00002  -0.00004  -0.00012       0.0   0.00002   0.00002    0.0       36\n",
       "4237904  50963   0.00001  -0.00001  -0.00002  -0.00004  -0.00012       0.0   0.00002   0.00002    0.0       36\n",
       "4237905  50964   0.00001  -0.00001  -0.00002  -0.00004  -0.00012       0.0   0.00002   0.00002    0.0       36\n",
       "4237906  50965   0.00001  -0.00001  -0.00002  -0.00004  -0.00012       0.0   0.00002   0.00002    0.0       36\n",
       "4237907  50966   0.00001  -0.00001  -0.00002  -0.00004  -0.00012       0.0   0.00002   0.00002    0.0       36"
      ]
     },
     "execution_count": 3,
     "metadata": {},
     "output_type": "execute_result"
    }
   ],
   "source": [
    "merged_data.tail()"
   ]
  },
  {
   "cell_type": "markdown",
   "id": "4ae69cdb",
   "metadata": {},
   "source": [
    "## DATA PREPROCESSING AND EXPLORATORY DATA ANALYSIS(EDA)"
   ]
  },
  {
   "cell_type": "code",
   "execution_count": 4,
   "id": "faf1d7ea",
   "metadata": {},
   "outputs": [
    {
     "data": {
      "text/plain": [
       "(4237908, 11)"
      ]
     },
     "execution_count": 4,
     "metadata": {},
     "output_type": "execute_result"
    }
   ],
   "source": [
    "# Checking for the number of rows and columns in the dataset\n",
    "merged_data.shape"
   ]
  },
  {
   "cell_type": "code",
   "execution_count": 5,
   "id": "e2c03d4c",
   "metadata": {},
   "outputs": [
    {
     "data": {
      "text/plain": [
       "1"
      ]
     },
     "execution_count": 5,
     "metadata": {},
     "output_type": "execute_result"
    }
   ],
   "source": [
    "# Checking for null values\n",
    "merged_data.isnull().any().sum()"
   ]
  },
  {
   "cell_type": "code",
   "execution_count": 6,
   "id": "d7a437d9",
   "metadata": {},
   "outputs": [
    {
     "data": {
      "text/plain": [
       "0"
      ]
     },
     "execution_count": 6,
     "metadata": {},
     "output_type": "execute_result"
    }
   ],
   "source": [
    "# Checking for duplicated cells\n",
    "merged_data.duplicated().sum()"
   ]
  },
  {
   "cell_type": "code",
   "execution_count": 7,
   "id": "7b163f1b",
   "metadata": {},
   "outputs": [
    {
     "name": "stdout",
     "output_type": "stream",
     "text": [
      "Index(['Class'], dtype='object')\n"
     ]
    }
   ],
   "source": [
    "# Checking for the column containing the null value\n",
    "print(merged_data.columns[merged_data.isnull().any()])"
   ]
  },
  {
   "cell_type": "code",
   "execution_count": 8,
   "id": "ee7c44e8",
   "metadata": {},
   "outputs": [
    {
     "name": "stdout",
     "output_type": "stream",
     "text": [
      "          Time  Channel1  Channel2  Channel3  Channel4  Channel5  Channel6  Channel7  Channel8  Class  Subject\n",
      "3985214  97144  -0.00002  -0.00003  -0.00003  -0.00002  -0.00002       0.0       0.0  -0.00001    NaN       34\n"
     ]
    }
   ],
   "source": [
    "# Checking for the row containing the null value\n",
    "print(merged_data[merged_data['Class'].isnull()])"
   ]
  },
  {
   "cell_type": "code",
   "execution_count": 9,
   "id": "dc503389",
   "metadata": {},
   "outputs": [
    {
     "data": {
      "text/plain": [
       "(4237907, 11)"
      ]
     },
     "execution_count": 9,
     "metadata": {},
     "output_type": "execute_result"
    }
   ],
   "source": [
    "# dropping the null value\n",
    "merged_data.dropna(subset=['Class'], inplace=True)\n",
    "\n",
    "# Checking for the number of rows and columns after dropping the null value\n",
    "merged_data.shape"
   ]
  },
  {
   "cell_type": "code",
   "execution_count": 10,
   "id": "433b3c5c",
   "metadata": {},
   "outputs": [],
   "source": [
    "#Defining a function to plot a bar chart\n",
    "def plot_barchart(x, y, title, xlable=None, ylable=None):\n",
    "    plt.figure(figsize=(15, 5))\n",
    "    sns.barplot(x, y)\n",
    "    plt.title(title, fontsize=18)\n",
    "    plt.xlabel(xlable, fontsize=14)\n",
    "    plt.ylabel(ylable, fontsize=14)\n",
    "    plt.xticks(rotation=65)\n",
    "    plt.show()"
   ]
  },
  {
   "cell_type": "code",
   "execution_count": 11,
   "id": "060fe65b",
   "metadata": {},
   "outputs": [],
   "source": [
    "# Defining a function to plot the Percentage on bar chart\n",
    "def plot_percentage(feature, title=\"\", limited=False, n=10):\n",
    "    print(\"Total unique values are: \", len(feature.value_counts()), \"\\n\\n\")\n",
    "    print(\"Category\\tValue\\n\")\n",
    "    if limited:\n",
    "        data = feature.value_counts()[0:n]\n",
    "    else:\n",
    "        data = feature.value_counts()\n",
    "    print(data)\n",
    "    categories_num = len(data)\n",
    "    #plotting bar-plot and pie chart\n",
    "    sns.set_style('darkgrid')\n",
    "    plt.figure(figsize=(16,5))\n",
    "    plt.title(title, fontsize=18)\n",
    "    plt.xticks(rotation=45)\n",
    "    plot = sns.barplot(x=data.index, y=data.values, edgecolor=\"black\", palette=sns.palettes.color_palette(\"icefire\"))\n",
    "    total = len(feature)\n",
    "    for p in plot.patches:\n",
    "        percentage = '{:.1f}%'.format(100 * p.get_height()/total)\n",
    "        x = p.get_x() + p.get_width() / 2 - 0.08\n",
    "        y = p.get_y() + p.get_height()\n",
    "        plot.annotate(percentage, (x, y), size = 12)\n",
    "    plt.show()"
   ]
  },
  {
   "cell_type": "code",
   "execution_count": 12,
   "id": "c9d26f85",
   "metadata": {},
   "outputs": [
    {
     "name": "stdout",
     "output_type": "stream",
     "text": [
      "Total unique values are:  8 \n",
      "\n",
      "\n",
      "Category\tValue\n",
      "\n",
      "0.0    2725157\n",
      "6.0     253009\n",
      "5.0     251733\n",
      "4.0     251570\n",
      "1.0     250055\n",
      "3.0     249494\n",
      "2.0     243193\n",
      "7.0      13696\n",
      "Name: Class, dtype: int64\n"
     ]
    },
    {
     "data": {
      "image/png": "[encoded data removed]",
      "text/plain": [
       "<Figure size 1600x500 with 1 Axes>"
      ]
     },
     "metadata": {},
     "output_type": "display_data"
    }
   ],
   "source": [
    "#To check for the distribution of the classes in the dataset\n",
    "plot_percentage(merged_data.Class, \"Class Distribution\")"
   ]
  },
  {
   "cell_type": "code",
   "execution_count": 13,
   "id": "e76fbbad",
   "metadata": {},
   "outputs": [
    {
     "name": "stdout",
     "output_type": "stream",
     "text": [
      "Total unique values are:  36 \n",
      "\n",
      "\n",
      "Category\tValue\n",
      "\n",
      "13    153240\n",
      "30    148561\n",
      "11    147326\n",
      "2     136426\n",
      "7     132640\n",
      "17    132085\n",
      "34    131202\n",
      "18    129312\n",
      "12    128551\n",
      "20    127853\n",
      "9     127647\n",
      "10    123089\n",
      "32    122930\n",
      "1     121170\n",
      "22    119629\n",
      "21    119247\n",
      "8     117948\n",
      "24    116940\n",
      "25    116747\n",
      "23    115619\n",
      "4     114198\n",
      "33    112105\n",
      "19    109906\n",
      "5     107248\n",
      "27    106799\n",
      "26    106154\n",
      "29    105987\n",
      "3     105785\n",
      "16    105501\n",
      "15    105396\n",
      "36    101754\n",
      "14    101003\n",
      "6      99619\n",
      "35     99501\n",
      "28     97766\n",
      "31     91023\n",
      "Name: Subject, dtype: int64\n"
     ]
    },
    {
     "data": {
      "image/png": "[encoded data removed]",
      "text/plain": [
       "<Figure size 1600x500 with 1 Axes>"
      ]
     },
     "metadata": {},
     "output_type": "display_data"
    }
   ],
   "source": [
    "#To check for the distribution of the classes in the dataset\n",
    "plot_percentage(merged_data.Subject, \"Subject Distribution\")"
   ]
  },
  {
   "cell_type": "code",
   "execution_count": 14,
   "id": "7db2498c",
   "metadata": {},
   "outputs": [],
   "source": [
    "# Creating a copy of the dataset\n",
    "dataset = merged_data.copy()"
   ]
  },
  {
   "cell_type": "code",
   "execution_count": 15,
   "id": "aa0b5037",
   "metadata": {},
   "outputs": [],
   "source": [
    "# Since the class 0 contains unmarked data/ gestures, I would be dropping it to allow us focus on other classes that are marked\n",
    "merged_data = merged_data[merged_data['Class'] != 0]\n"
   ]
  },
  {
   "cell_type": "code",
   "execution_count": 16,
   "id": "b1f556f0",
   "metadata": {},
   "outputs": [],
   "source": [
    "# Since class 7 only contains 2 gestures, I would be dropping it\n",
    "merged_data = merged_data[merged_data['Class'] != 7]"
   ]
  },
  {
   "cell_type": "code",
   "execution_count": 17,
   "id": "bfb5fe19",
   "metadata": {},
   "outputs": [
    {
     "data": {
      "text/html": [
       "<div>\n",
       "<style scoped>\n",
       "    .dataframe tbody tr th:only-of-type {\n",
       "        vertical-align: middle;\n",
       "    }\n",
       "\n",
       "    .dataframe tbody tr th {\n",
       "        vertical-align: top;\n",
       "    }\n",
       "\n",
       "    .dataframe thead th {\n",
       "        text-align: right;\n",
       "    }\n",
       "</style>\n",
       "<table border=\"1\" class=\"dataframe\">\n",
       "  <thead>\n",
       "    <tr style=\"text-align: right;\">\n",
       "      <th></th>\n",
       "      <th>Time</th>\n",
       "      <th>Channel1</th>\n",
       "      <th>Channel2</th>\n",
       "      <th>Channel3</th>\n",
       "      <th>Channel4</th>\n",
       "      <th>Channel5</th>\n",
       "      <th>Channel6</th>\n",
       "      <th>Channel7</th>\n",
       "      <th>Channel8</th>\n",
       "      <th>Class</th>\n",
       "      <th>Subject</th>\n",
       "    </tr>\n",
       "  </thead>\n",
       "  <tbody>\n",
       "    <tr>\n",
       "      <th>2287</th>\n",
       "      <td>2400</td>\n",
       "      <td>-0.00001</td>\n",
       "      <td>0.00000</td>\n",
       "      <td>-0.00001</td>\n",
       "      <td>0.00000</td>\n",
       "      <td>0.00000</td>\n",
       "      <td>-0.00001</td>\n",
       "      <td>-0.00001</td>\n",
       "      <td>0.00001</td>\n",
       "      <td>1.0</td>\n",
       "      <td>1</td>\n",
       "    </tr>\n",
       "    <tr>\n",
       "      <th>2288</th>\n",
       "      <td>2401</td>\n",
       "      <td>-0.00001</td>\n",
       "      <td>-0.00002</td>\n",
       "      <td>0.00000</td>\n",
       "      <td>-0.00001</td>\n",
       "      <td>-0.00001</td>\n",
       "      <td>-0.00001</td>\n",
       "      <td>-0.00003</td>\n",
       "      <td>-0.00002</td>\n",
       "      <td>1.0</td>\n",
       "      <td>1</td>\n",
       "    </tr>\n",
       "    <tr>\n",
       "      <th>2289</th>\n",
       "      <td>2402</td>\n",
       "      <td>-0.00001</td>\n",
       "      <td>-0.00002</td>\n",
       "      <td>0.00000</td>\n",
       "      <td>-0.00001</td>\n",
       "      <td>-0.00001</td>\n",
       "      <td>-0.00001</td>\n",
       "      <td>-0.00003</td>\n",
       "      <td>-0.00002</td>\n",
       "      <td>1.0</td>\n",
       "      <td>1</td>\n",
       "    </tr>\n",
       "    <tr>\n",
       "      <th>2290</th>\n",
       "      <td>2403</td>\n",
       "      <td>-0.00001</td>\n",
       "      <td>-0.00002</td>\n",
       "      <td>0.00000</td>\n",
       "      <td>-0.00001</td>\n",
       "      <td>-0.00001</td>\n",
       "      <td>-0.00001</td>\n",
       "      <td>-0.00003</td>\n",
       "      <td>-0.00002</td>\n",
       "      <td>1.0</td>\n",
       "      <td>1</td>\n",
       "    </tr>\n",
       "    <tr>\n",
       "      <th>2291</th>\n",
       "      <td>2404</td>\n",
       "      <td>-0.00001</td>\n",
       "      <td>-0.00002</td>\n",
       "      <td>0.00000</td>\n",
       "      <td>-0.00001</td>\n",
       "      <td>-0.00001</td>\n",
       "      <td>-0.00001</td>\n",
       "      <td>-0.00003</td>\n",
       "      <td>-0.00002</td>\n",
       "      <td>1.0</td>\n",
       "      <td>1</td>\n",
       "    </tr>\n",
       "  </tbody>\n",
       "</table>\n",
       "</div>"
      ],
      "text/plain": [
       "      Time  Channel1  Channel2  Channel3  Channel4  Channel5  Channel6  Channel7  Channel8  Class  Subject\n",
       "2287  2400  -0.00001   0.00000  -0.00001   0.00000   0.00000  -0.00001  -0.00001   0.00001    1.0        1\n",
       "2288  2401  -0.00001  -0.00002   0.00000  -0.00001  -0.00001  -0.00001  -0.00003  -0.00002    1.0        1\n",
       "2289  2402  -0.00001  -0.00002   0.00000  -0.00001  -0.00001  -0.00001  -0.00003  -0.00002    1.0        1\n",
       "2290  2403  -0.00001  -0.00002   0.00000  -0.00001  -0.00001  -0.00001  -0.00003  -0.00002    1.0        1\n",
       "2291  2404  -0.00001  -0.00002   0.00000  -0.00001  -0.00001  -0.00001  -0.00003  -0.00002    1.0        1"
      ]
     },
     "execution_count": 17,
     "metadata": {},
     "output_type": "execute_result"
    }
   ],
   "source": [
    "merged_data.head()"
   ]
  },
  {
   "cell_type": "code",
   "execution_count": 18,
   "id": "443eaeed",
   "metadata": {},
   "outputs": [
    {
     "name": "stdout",
     "output_type": "stream",
     "text": [
      "Total unique values are:  6 \n",
      "\n",
      "\n",
      "Category\tValue\n",
      "\n",
      "6.0    253009\n",
      "5.0    251733\n",
      "4.0    251570\n",
      "1.0    250055\n",
      "3.0    249494\n",
      "2.0    243193\n",
      "Name: Class, dtype: int64\n"
     ]
    },
    {
     "data": {
      "image/png": "[encoded data removed]",
      "text/plain": [
       "<Figure size 1600x500 with 1 Axes>"
      ]
     },
     "metadata": {},
     "output_type": "display_data"
    }
   ],
   "source": [
    "#To check for the distribution of the classes in the dataset\n",
    "plot_percentage(merged_data.Class, \"Class Distribution\")"
   ]
  },
  {
   "cell_type": "code",
   "execution_count": 19,
   "id": "0466f0f4",
   "metadata": {},
   "outputs": [
    {
     "data": {
      "text/plain": [
       "(1499054, 11)"
      ]
     },
     "execution_count": 19,
     "metadata": {},
     "output_type": "execute_result"
    }
   ],
   "source": [
    "merged_data.shape"
   ]
  },
  {
   "cell_type": "markdown",
   "id": "528c9233",
   "metadata": {},
   "source": [
    "## POSITIVE RECTIFICATION"
   ]
  },
  {
   "cell_type": "markdown",
   "id": "c3781f5b",
   "metadata": {},
   "source": [
    "Positive rectification is a preprocessing step in EMG signal analysis that helps to emphasize the magnitude of muscle activation, simplify signal analysis, and improve signal consistency, thereby aiding in the extraction of meaningful information from the EMG dataset."
   ]
  },
  {
   "cell_type": "code",
   "execution_count": 20,
   "id": "cd3d2ec1",
   "metadata": {},
   "outputs": [
    {
     "name": "stdout",
     "output_type": "stream",
     "text": [
      "          Time  Channel1  Channel2  Channel3  Channel4  Channel5  Channel6  Channel7  Channel8  Class  Subject\n",
      "2287      2400   0.00001   0.00000   0.00001   0.00000   0.00000   0.00001   0.00001   0.00001    1.0        1\n",
      "2288      2401   0.00001   0.00002   0.00000   0.00001   0.00001   0.00001   0.00003   0.00002    1.0        1\n",
      "2289      2402   0.00001   0.00002   0.00000   0.00001   0.00001   0.00001   0.00003   0.00002    1.0        1\n",
      "2290      2403   0.00001   0.00002   0.00000   0.00001   0.00001   0.00001   0.00003   0.00002    1.0        1\n",
      "2291      2404   0.00001   0.00002   0.00000   0.00001   0.00001   0.00001   0.00003   0.00002    1.0        1\n",
      "...        ...       ...       ...       ...       ...       ...       ...       ...       ...    ...      ...\n",
      "4237208  50226   0.00009   0.00001   0.00003   0.00001   0.00003   0.00008   0.00004   0.00000    6.0       36\n",
      "4237209  50227   0.00009   0.00001   0.00003   0.00001   0.00003   0.00008   0.00004   0.00000    6.0       36\n",
      "4237210  50228   0.00009   0.00001   0.00003   0.00001   0.00003   0.00008   0.00004   0.00000    6.0       36\n",
      "4237211  50229   0.00014   0.00003   0.00001   0.00001   0.00012   0.00006   0.00007   0.00013    6.0       36\n",
      "4237212  50230   0.00014   0.00003   0.00001   0.00001   0.00012   0.00006   0.00007   0.00013    6.0       36\n",
      "\n",
      "[1499054 rows x 11 columns]\n"
     ]
    }
   ],
   "source": [
    "# Apply positive rectification to channels \"Channel1\" to \"Channel8\"\n",
    "channels = merged_data.columns[1:9]  # Select columns \"Channel1\" to \"Channel8\"\n",
    "for channel in channels:\n",
    "    merged_data[channel] = np.abs(merged_data[channel])\n",
    "\n",
    "# Print the updated DataFrame\n",
    "print(merged_data)"
   ]
  },
  {
   "cell_type": "markdown",
   "id": "9052c669",
   "metadata": {},
   "source": [
    "## SIGNAL FILTERING"
   ]
  },
  {
   "cell_type": "markdown",
   "id": "59e6a30a",
   "metadata": {},
   "source": [
    "Signal filtering is used to modify or remove specific frequency components from a signal. It plays a crucial role in preprocessing the EMG data. It enhances its quality, remove noise, extract relevant information, and facilitate further analysis and interpretation. It also helps to obtain reliable and meaningful insights from the EMG signals, leading to better understanding of gesture recognition, muscle activity and other related factors to be  considered in modeling the data.\n",
    "\n",
    "In carrying this out,  a cut off frequency of 0.1 was used with an Order of 4. The filtering was applied on the 8 channels  from Channel 1 to 8 then  a Low-Pass Butterworth filter was applied."
   ]
  },
  {
   "cell_type": "code",
   "execution_count": 21,
   "id": "af1e1817",
   "metadata": {},
   "outputs": [
    {
     "name": "stdout",
     "output_type": "stream",
     "text": [
      "          Time      Channel1      Channel2      Channel3      Channel4      Channel5      Channel6      Channel7      Channel8  Class  Subject\n",
      "2287      2400  8.984861e-12  0.000000e+00  8.984861e-12  0.000000e+00  0.000000e+00  8.984861e-12  8.984861e-12  8.984861e-12    1.0        1\n",
      "2288      2401  7.938867e-11  1.796972e-11  7.040381e-11  8.984861e-12  8.984861e-12  7.938867e-11  9.735839e-11  8.837353e-11    1.0        1\n",
      "2289      2402  3.537508e-10  1.587773e-10  2.743621e-10  7.938867e-11  7.938867e-11  3.537508e-10  5.125281e-10  4.331394e-10    1.0        1\n",
      "2290      2403  1.085157e-09  7.075015e-10  7.314062e-10  3.537508e-10  3.537508e-10  1.085157e-09  1.792659e-09  1.438908e-09    1.0        1\n",
      "2291      2404  2.626135e-09  2.170314e-09  1.540978e-09  1.085157e-09  1.085157e-09  2.626135e-09  4.796449e-09  3.711292e-09    1.0        1\n",
      "...        ...           ...           ...           ...           ...           ...           ...           ...           ...    ...      ...\n",
      "4237208  50226  1.443340e-04  2.208235e-05  3.588060e-05  3.035531e-05  2.784091e-04  9.040314e-05  7.184319e-05  8.909690e-05    6.0       36\n",
      "4237209  50227  1.491423e-04  2.198333e-05  3.549564e-05  3.068257e-05  2.762374e-04  9.009998e-05  7.123022e-05  8.744360e-05    6.0       36\n",
      "4237210  50228  1.538407e-04  2.188010e-05  3.511018e-05  3.099086e-05  2.737326e-04  8.983411e-05  7.056280e-05  8.570443e-05    6.0       36\n",
      "4237211  50229  1.584074e-04  2.177222e-05  3.472523e-05  3.127757e-05  2.709024e-04  8.960364e-05  6.984375e-05  8.388373e-05    6.0       36\n",
      "4237212  50230  1.628218e-04  2.165933e-05  3.434172e-05  3.154026e-05  2.677562e-04  8.940645e-05  6.907625e-05  8.198662e-05    6.0       36\n",
      "\n",
      "[1499054 rows x 11 columns]\n"
     ]
    }
   ],
   "source": [
    "import scipy.signal as signal\n",
    "\n",
    "# Define the filter parameters\n",
    "cutoff_freq = 5  # Cutoff frequency in Hz\n",
    "order = 4  # Filter order\n",
    "\n",
    "# Calculate the Nyquist frequency\n",
    "nyquist_freq = 0.5 * 1000  # Sampling frequency is 1000 Hz, so Nyquist frequency is half of that\n",
    "\n",
    "# Calculate the normalized cutoff frequency\n",
    "normalized_cutoff = cutoff_freq / nyquist_freq\n",
    "\n",
    "# Apply filtering to columns \"Channel1\" to \"Channel8\"\n",
    "channels = merged_data.columns[1:9]  # Select columns \"Channel1\" to \"Channel8\"\n",
    "for channel in channels:\n",
    "    # Get the signal values from the column\n",
    "    signal_values = merged_data[channel].values\n",
    "    \n",
    "    # Apply low-pass Butterworth filter\n",
    "    b, a = signal.butter(order, normalized_cutoff, fs=1)\n",
    "    filtered_signal = signal.lfilter(b, a, signal_values)\n",
    "    \n",
    "    # Update the column with the filtered signal\n",
    "    merged_data[channel] = filtered_signal\n",
    "\n",
    "# Print the updated DataFrame\n",
    "print(merged_data)"
   ]
  },
  {
   "cell_type": "code",
   "execution_count": 22,
   "id": "3f1e024a",
   "metadata": {},
   "outputs": [
    {
     "data": {
      "text/html": [
       "<div>\n",
       "<style scoped>\n",
       "    .dataframe tbody tr th:only-of-type {\n",
       "        vertical-align: middle;\n",
       "    }\n",
       "\n",
       "    .dataframe tbody tr th {\n",
       "        vertical-align: top;\n",
       "    }\n",
       "\n",
       "    .dataframe thead th {\n",
       "        text-align: right;\n",
       "    }\n",
       "</style>\n",
       "<table border=\"1\" class=\"dataframe\">\n",
       "  <thead>\n",
       "    <tr style=\"text-align: right;\">\n",
       "      <th></th>\n",
       "      <th>Time</th>\n",
       "      <th>Channel1</th>\n",
       "      <th>Channel2</th>\n",
       "      <th>Channel3</th>\n",
       "      <th>Channel4</th>\n",
       "      <th>Channel5</th>\n",
       "      <th>Channel6</th>\n",
       "      <th>Channel7</th>\n",
       "      <th>Channel8</th>\n",
       "      <th>Class</th>\n",
       "      <th>Subject</th>\n",
       "    </tr>\n",
       "  </thead>\n",
       "  <tbody>\n",
       "    <tr>\n",
       "      <th>2287</th>\n",
       "      <td>2400</td>\n",
       "      <td>8.984861e-12</td>\n",
       "      <td>0.000000e+00</td>\n",
       "      <td>8.984861e-12</td>\n",
       "      <td>0.000000e+00</td>\n",
       "      <td>0.000000e+00</td>\n",
       "      <td>8.984861e-12</td>\n",
       "      <td>8.984861e-12</td>\n",
       "      <td>8.984861e-12</td>\n",
       "      <td>1.0</td>\n",
       "      <td>1</td>\n",
       "    </tr>\n",
       "    <tr>\n",
       "      <th>2288</th>\n",
       "      <td>2401</td>\n",
       "      <td>7.938867e-11</td>\n",
       "      <td>1.796972e-11</td>\n",
       "      <td>7.040381e-11</td>\n",
       "      <td>8.984861e-12</td>\n",
       "      <td>8.984861e-12</td>\n",
       "      <td>7.938867e-11</td>\n",
       "      <td>9.735839e-11</td>\n",
       "      <td>8.837353e-11</td>\n",
       "      <td>1.0</td>\n",
       "      <td>1</td>\n",
       "    </tr>\n",
       "    <tr>\n",
       "      <th>2289</th>\n",
       "      <td>2402</td>\n",
       "      <td>3.537508e-10</td>\n",
       "      <td>1.587773e-10</td>\n",
       "      <td>2.743621e-10</td>\n",
       "      <td>7.938867e-11</td>\n",
       "      <td>7.938867e-11</td>\n",
       "      <td>3.537508e-10</td>\n",
       "      <td>5.125281e-10</td>\n",
       "      <td>4.331394e-10</td>\n",
       "      <td>1.0</td>\n",
       "      <td>1</td>\n",
       "    </tr>\n",
       "    <tr>\n",
       "      <th>2290</th>\n",
       "      <td>2403</td>\n",
       "      <td>1.085157e-09</td>\n",
       "      <td>7.075015e-10</td>\n",
       "      <td>7.314062e-10</td>\n",
       "      <td>3.537508e-10</td>\n",
       "      <td>3.537508e-10</td>\n",
       "      <td>1.085157e-09</td>\n",
       "      <td>1.792659e-09</td>\n",
       "      <td>1.438908e-09</td>\n",
       "      <td>1.0</td>\n",
       "      <td>1</td>\n",
       "    </tr>\n",
       "    <tr>\n",
       "      <th>2291</th>\n",
       "      <td>2404</td>\n",
       "      <td>2.626135e-09</td>\n",
       "      <td>2.170314e-09</td>\n",
       "      <td>1.540978e-09</td>\n",
       "      <td>1.085157e-09</td>\n",
       "      <td>1.085157e-09</td>\n",
       "      <td>2.626135e-09</td>\n",
       "      <td>4.796449e-09</td>\n",
       "      <td>3.711292e-09</td>\n",
       "      <td>1.0</td>\n",
       "      <td>1</td>\n",
       "    </tr>\n",
       "  </tbody>\n",
       "</table>\n",
       "</div>"
      ],
      "text/plain": [
       "      Time      Channel1      Channel2      Channel3      Channel4      Channel5      Channel6      Channel7      Channel8  Class  Subject\n",
       "2287  2400  8.984861e-12  0.000000e+00  8.984861e-12  0.000000e+00  0.000000e+00  8.984861e-12  8.984861e-12  8.984861e-12    1.0        1\n",
       "2288  2401  7.938867e-11  1.796972e-11  7.040381e-11  8.984861e-12  8.984861e-12  7.938867e-11  9.735839e-11  8.837353e-11    1.0        1\n",
       "2289  2402  3.537508e-10  1.587773e-10  2.743621e-10  7.938867e-11  7.938867e-11  3.537508e-10  5.125281e-10  4.331394e-10    1.0        1\n",
       "2290  2403  1.085157e-09  7.075015e-10  7.314062e-10  3.537508e-10  3.537508e-10  1.085157e-09  1.792659e-09  1.438908e-09    1.0        1\n",
       "2291  2404  2.626135e-09  2.170314e-09  1.540978e-09  1.085157e-09  1.085157e-09  2.626135e-09  4.796449e-09  3.711292e-09    1.0        1"
      ]
     },
     "execution_count": 22,
     "metadata": {},
     "output_type": "execute_result"
    }
   ],
   "source": [
    "merged_data.head()"
   ]
  },
  {
   "cell_type": "markdown",
   "id": "a8edaeac",
   "metadata": {},
   "source": [
    "## WINDOWING"
   ]
  },
  {
   "cell_type": "markdown",
   "id": "b0fceda6",
   "metadata": {},
   "source": [
    "Windowing is a technique used in signal processing to divide a continuous signal into smaller segments called windows or frames. This technique allows for the analysis of the signal in shorter, localized segments rather than considering the entire signal at once.For this  project, I used the Sliding window technique. \n",
    "Sliding windowing, also known as window sliding or window shifting, is an extension of windowing where the windows are shifted along the signal with a certain stride or step size. This means that each window overlaps with the preceding and succeeding windows, creating a continuous stream of overlapping segments.\n",
    "\n",
    "Sliding Windowing is important for the dataset as it allows us to capture temporal dynamics, extract relevant features, and perform accurate classification or pattern recognition tasks. It enables the analysis of localized segments of the signal, providing insights into muscle activity and facilitating further analysis and interpretation of the EMG dataset."
   ]
  },
  {
   "cell_type": "code",
   "execution_count": 23,
   "id": "46f1c271",
   "metadata": {},
   "outputs": [
    {
     "data": {
      "text/html": [
       "<div>\n",
       "<style scoped>\n",
       "    .dataframe tbody tr th:only-of-type {\n",
       "        vertical-align: middle;\n",
       "    }\n",
       "\n",
       "    .dataframe tbody tr th {\n",
       "        vertical-align: top;\n",
       "    }\n",
       "\n",
       "    .dataframe thead th {\n",
       "        text-align: right;\n",
       "    }\n",
       "</style>\n",
       "<table border=\"1\" class=\"dataframe\">\n",
       "  <thead>\n",
       "    <tr style=\"text-align: right;\">\n",
       "      <th></th>\n",
       "      <th>Time</th>\n",
       "      <th>Channel1</th>\n",
       "      <th>Channel2</th>\n",
       "      <th>Channel3</th>\n",
       "      <th>Channel4</th>\n",
       "      <th>Channel5</th>\n",
       "      <th>Channel6</th>\n",
       "      <th>Channel7</th>\n",
       "      <th>Channel8</th>\n",
       "      <th>Class</th>\n",
       "      <th>Subject</th>\n",
       "    </tr>\n",
       "  </thead>\n",
       "  <tbody>\n",
       "    <tr>\n",
       "      <th>0</th>\n",
       "      <td>2400</td>\n",
       "      <td>8.984861e-12</td>\n",
       "      <td>0.000000e+00</td>\n",
       "      <td>8.984861e-12</td>\n",
       "      <td>0.000000e+00</td>\n",
       "      <td>0.000000e+00</td>\n",
       "      <td>8.984861e-12</td>\n",
       "      <td>8.984861e-12</td>\n",
       "      <td>8.984861e-12</td>\n",
       "      <td>1.0</td>\n",
       "      <td>1</td>\n",
       "    </tr>\n",
       "    <tr>\n",
       "      <th>1</th>\n",
       "      <td>2401</td>\n",
       "      <td>7.938867e-11</td>\n",
       "      <td>1.796972e-11</td>\n",
       "      <td>7.040381e-11</td>\n",
       "      <td>8.984861e-12</td>\n",
       "      <td>8.984861e-12</td>\n",
       "      <td>7.938867e-11</td>\n",
       "      <td>9.735839e-11</td>\n",
       "      <td>8.837353e-11</td>\n",
       "      <td>1.0</td>\n",
       "      <td>1</td>\n",
       "    </tr>\n",
       "    <tr>\n",
       "      <th>2</th>\n",
       "      <td>2402</td>\n",
       "      <td>3.537508e-10</td>\n",
       "      <td>1.587773e-10</td>\n",
       "      <td>2.743621e-10</td>\n",
       "      <td>7.938867e-11</td>\n",
       "      <td>7.938867e-11</td>\n",
       "      <td>3.537508e-10</td>\n",
       "      <td>5.125281e-10</td>\n",
       "      <td>4.331394e-10</td>\n",
       "      <td>1.0</td>\n",
       "      <td>1</td>\n",
       "    </tr>\n",
       "    <tr>\n",
       "      <th>3</th>\n",
       "      <td>2403</td>\n",
       "      <td>1.085157e-09</td>\n",
       "      <td>7.075015e-10</td>\n",
       "      <td>7.314062e-10</td>\n",
       "      <td>3.537508e-10</td>\n",
       "      <td>3.537508e-10</td>\n",
       "      <td>1.085157e-09</td>\n",
       "      <td>1.792659e-09</td>\n",
       "      <td>1.438908e-09</td>\n",
       "      <td>1.0</td>\n",
       "      <td>1</td>\n",
       "    </tr>\n",
       "    <tr>\n",
       "      <th>4</th>\n",
       "      <td>2404</td>\n",
       "      <td>2.626135e-09</td>\n",
       "      <td>2.170314e-09</td>\n",
       "      <td>1.540978e-09</td>\n",
       "      <td>1.085157e-09</td>\n",
       "      <td>1.085157e-09</td>\n",
       "      <td>2.626135e-09</td>\n",
       "      <td>4.796449e-09</td>\n",
       "      <td>3.711292e-09</td>\n",
       "      <td>1.0</td>\n",
       "      <td>1</td>\n",
       "    </tr>\n",
       "  </tbody>\n",
       "</table>\n",
       "</div>"
      ],
      "text/plain": [
       "   Time      Channel1      Channel2      Channel3      Channel4      Channel5      Channel6      Channel7      Channel8  Class  Subject\n",
       "0  2400  8.984861e-12  0.000000e+00  8.984861e-12  0.000000e+00  0.000000e+00  8.984861e-12  8.984861e-12  8.984861e-12    1.0        1\n",
       "1  2401  7.938867e-11  1.796972e-11  7.040381e-11  8.984861e-12  8.984861e-12  7.938867e-11  9.735839e-11  8.837353e-11    1.0        1\n",
       "2  2402  3.537508e-10  1.587773e-10  2.743621e-10  7.938867e-11  7.938867e-11  3.537508e-10  5.125281e-10  4.331394e-10    1.0        1\n",
       "3  2403  1.085157e-09  7.075015e-10  7.314062e-10  3.537508e-10  3.537508e-10  1.085157e-09  1.792659e-09  1.438908e-09    1.0        1\n",
       "4  2404  2.626135e-09  2.170314e-09  1.540978e-09  1.085157e-09  1.085157e-09  2.626135e-09  4.796449e-09  3.711292e-09    1.0        1"
      ]
     },
     "execution_count": 23,
     "metadata": {},
     "output_type": "execute_result"
    }
   ],
   "source": [
    "window_size = 100  # Size of the sliding window\n",
    "slide_length = 50  # Length of the slide\n",
    "\n",
    "num_samples = len(merged_data)  # Total number of samples in the dataset\n",
    "num_windows = (num_samples - window_size) // slide_length + 1  # Number of windows\n",
    "\n",
    "windowed_data = []  # List to store the windowed segments\n",
    "\n",
    "for i in range(num_windows):\n",
    "    start = i * slide_length  # Starting index of the window\n",
    "    end = start + window_size  # Ending index of the window\n",
    "    \n",
    "    # Extract the windowed segment\n",
    "    window = merged_data.iloc[start:end]\n",
    "    \n",
    "    # Append the windowed segment to the list\n",
    "    windowed_data.append(window)\n",
    "\n",
    "# Convert the list of windowed segments into a DataFrame\n",
    "windowed_data = pd.concat(windowed_data, ignore_index=True)\n",
    "\n",
    "# Print the windowed data\n",
    "windowed_data.head()"
   ]
  },
  {
   "cell_type": "markdown",
   "id": "1e2acd9c",
   "metadata": {},
   "source": [
    "## FEATURE EXTRACTION"
   ]
  },
  {
   "cell_type": "markdown",
   "id": "7fc39364",
   "metadata": {},
   "source": [
    "Feature extraction is the process of transforming raw data into a reduced and meaningful set of features that capture the essential characteristics of the data. For the EMG dataset, feature extraction involves extracting relevant information from the raw EMG signals to represent muscle activity and gestures in a more concise and informative manner. It allows for more efficient analysis, improved classification or recognition performance, noise robustness, and provides interpretable and meaningful representations of muscle activity and gestures. It aids in extracting the most relevant information from the EMG signals and provides valuable insights to make informed decisions based on the extracted features.\n",
    "\n",
    "In carrying this out, the windowed dataset was grouped into Subject and Class. A class was created to extract 3 major features which are the Root Mean Square, Simple Square Integral and the Absolute Differential Signal. Also, the dataset was aggregated with the features extracted including the Min and Max values."
   ]
  },
  {
   "cell_type": "code",
   "execution_count": 24,
   "id": "af33ba12",
   "metadata": {},
   "outputs": [],
   "source": [
    "# Grouping the windowed dataset into Subject and Classes\n",
    "windowed_data=windowed_data.groupby(['Subject','Class'])"
   ]
  },
  {
   "cell_type": "code",
   "execution_count": 25,
   "id": "af73e7c2",
   "metadata": {},
   "outputs": [],
   "source": [
    "class FeatureExtractor:\n",
    "    @staticmethod # Root Mean Square\n",
    "    def RMS(data):\n",
    "        return np.sqrt(np.mean(data**2, axis=0))\n",
    "\n",
    "    @staticmethod # Simple Square Integral\n",
    "    def SSI(data):\n",
    "        return np.sum(data**2, axis=0)\n",
    "\n",
    "    @staticmethod # Absolute Differential Signal\n",
    "    def ADS(data):\n",
    "        return np.sum(np.abs(np.diff(data, axis=0)), axis=0)\n",
    "\n",
    "\n",
    "def print_estimator_name(estimator):\n",
    "    return estimator.__class__.__name__"
   ]
  },
  {
   "cell_type": "code",
   "execution_count": 26,
   "id": "3cff155b",
   "metadata": {},
   "outputs": [
    {
     "name": "stdout",
     "output_type": "stream",
     "text": [
      "  Subject Class   Time                                                          Channel1            ...  Channel7                                Channel8                                                  \n",
      "                   min    max           RMS             SSI     ADS    ptp           min       max  ...       RMS       SSI       ADS       ptp       min       max       RMS       SSI       ADS       ptp\n",
      "0       1   1.0    880  36741  22983.698802   7697664983536  117357  35861 -2.787990e-06  0.000116  ...  0.000015  0.000003  0.003918  0.000122 -0.000001  0.000139  0.000017  0.000004  0.003971  0.000140\n",
      "1       1   2.0   4695  40244  27198.742335  10069770809858  115155  35549  4.357732e-06  0.000522  ...  0.000189  0.000486  0.044995  0.000616  0.000008  0.000339  0.000128  0.000223  0.028432  0.000331\n",
      "2       1   3.0  10254  46284  32125.782009  15128021517510  116921  36030 -8.769845e-06  0.000647  ...  0.000070  0.000071  0.018784  0.000220 -0.000002  0.000446  0.000138  0.000279  0.034957  0.000449\n",
      "3       1   4.0  15863  51909  36798.409485  18481069893164  115583  36046 -8.743903e-06  0.000221  ...  0.000105  0.000151  0.023186  0.000438 -0.000007  0.000352  0.000077  0.000082  0.017698  0.000359\n",
      "4       1   5.0  21640  57700  42372.786417  25405660356548  116307  36060  5.657181e-07  0.000314  ...  0.000073  0.000075  0.016769  0.000175  0.000002  0.000252  0.000052  0.000038  0.011704  0.000250\n",
      "\n",
      "[5 rows x 56 columns]\n"
     ]
    }
   ],
   "source": [
    "feature_extractor = FeatureExtractor()\n",
    "\n",
    "# Perform feature extraction on the merged_data dataset\n",
    "df = windowed_data.agg(['min', 'max', feature_extractor.RMS, feature_extractor.SSI,\n",
    "                           feature_extractor.ADS, np.ptp])\n",
    "\n",
    "# Reset the index of the dataset\n",
    "df = df.reset_index()\n",
    "\n",
    "# Display the first few rows of the dataset\n",
    "print(df.head())"
   ]
  },
  {
   "cell_type": "code",
   "execution_count": 27,
   "id": "0bf5beac",
   "metadata": {},
   "outputs": [
    {
     "data": {
      "text/plain": [
       "(216, 56)"
      ]
     },
     "execution_count": 27,
     "metadata": {},
     "output_type": "execute_result"
    }
   ],
   "source": [
    "df.shape"
   ]
  },
  {
   "cell_type": "markdown",
   "id": "18951cf8",
   "metadata": {},
   "source": [
    "# MACHINE LEARNING MODELLING"
   ]
  },
  {
   "cell_type": "markdown",
   "id": "5e5945e8",
   "metadata": {},
   "source": [
    "In this section, i would be training different machine learning models to see their performance and compare their accuracy to  find the one that would best predict the hand gestures. "
   ]
  },
  {
   "cell_type": "markdown",
   "id": "7fa0903b",
   "metadata": {},
   "source": [
    "## 1. RANDOM FOREST CLASSIFIER (RFC) "
   ]
  },
  {
   "cell_type": "markdown",
   "id": "191ff884",
   "metadata": {},
   "source": [
    "In carrying out the model, the code builds a random forest classifier, trains it on the training data, evaluates its performance on the test data, and provides evaluation metrics and a visualization of the confusion matrix."
   ]
  },
  {
   "cell_type": "code",
   "execution_count": 28,
   "id": "bcc47727",
   "metadata": {},
   "outputs": [],
   "source": [
    "# Prepare the features and labels\n",
    "features = df.drop(columns=[\"Subject\", \"Class\"])\n",
    "labels = df[\"Class\"]"
   ]
  },
  {
   "cell_type": "code",
   "execution_count": 29,
   "id": "c457ecfd",
   "metadata": {},
   "outputs": [],
   "source": [
    "# Split the data into training and testing sets\n",
    "from sklearn.model_selection import train_test_split\n",
    "X_train, X_test, y_train, y_test = train_test_split(features, labels, test_size=0.30, random_state=42)\n"
   ]
  },
  {
   "cell_type": "markdown",
   "id": "e0dd0819",
   "metadata": {},
   "source": [
    "### NORMALIZATION (SCALING)"
   ]
  },
  {
   "cell_type": "markdown",
   "id": "9ae6251e",
   "metadata": {},
   "source": [
    "Normalization was used to carry out scaling on the dataset. The data was normalized using the Mean and Standard Deviation. By normalizing the data, it ensured that all features have zero mean and unit variance, making them comparable and suitable for various machine learning algorithms. This helps in improving the stability, performance, and interpretability of the models trained on the data."
   ]
  },
  {
   "cell_type": "code",
   "execution_count": 30,
   "id": "eece0777",
   "metadata": {},
   "outputs": [],
   "source": [
    "# Normalize the data using mean and standard deviation\n",
    "mean = np.mean(X_train, axis=0)\n",
    "std = np.std(X_train, axis=0)\n",
    "X_train = (X_train - mean) / std\n",
    "X_test = (X_test - mean) / std\n"
   ]
  },
  {
   "cell_type": "code",
   "execution_count": 31,
   "id": "ee27de04",
   "metadata": {},
   "outputs": [],
   "source": [
    "# Optimizing the parameters using hyperparameter tuning\n",
    "from sklearn.ensemble import RandomForestClassifier\n",
    "from sklearn.metrics import f1_score, confusion_matrix, accuracy_score, plot_confusion_matrix\n",
    "\n",
    "# Define the RandomForestClassifier with specific parameters\n",
    "rfc = RandomForestClassifier(\n",
    "    criterion='entropy', max_depth=50, max_features=5, max_leaf_nodes=50,\n",
    "    min_samples_split=2, n_estimators=2000, oob_score=True\n",
    ")\n"
   ]
  },
  {
   "cell_type": "code",
   "execution_count": 32,
   "id": "e52b21c8",
   "metadata": {},
   "outputs": [
    {
     "name": "stdout",
     "output_type": "stream",
     "text": [
      "F1 Macro Score: 0.9020946486463727\n",
      "Confusion Matrix:\n",
      "[[12  0  0  0  0  0]\n",
      " [ 0 12  0  0  0  0]\n",
      " [ 2  0  9  0  0  0]\n",
      " [ 0  0  0 12  2  0]\n",
      " [ 0  0  0  3  8  0]\n",
      " [ 0  0  0  0  0  5]]\n",
      "Accuracy Score: 0.8923076923076924\n",
      "OOB Validation Score: 0.9337748344370861\n"
     ]
    },
    {
     "data": {
      "image/png": "[encoded data removed]",
      "text/plain": [
       "<Figure size 640x480 with 2 Axes>"
      ]
     },
     "metadata": {},
     "output_type": "display_data"
    }
   ],
   "source": [
    "# Train the RandomForestClassifier\n",
    "rfc.fit(X_train, y_train)\n",
    "\n",
    "# Make predictions on the test set\n",
    "y_test_pred = rfc.predict(X_test)\n",
    "\n",
    "# Calculate evaluation metrics\n",
    "f1_macro = f1_score(y_test, y_test_pred, average='macro')\n",
    "confusion_mtx = confusion_matrix(y_test, y_test_pred)\n",
    "accuracy = accuracy_score(y_test, y_test_pred)\n",
    "\n",
    "# Print the evaluation metrics\n",
    "print(\"F1 Macro Score:\", f1_macro)\n",
    "print(\"Confusion Matrix:\")\n",
    "print(confusion_mtx)\n",
    "print(\"Accuracy Score:\", accuracy)\n",
    "print(\"OOB Validation Score:\", rfc.oob_score_)\n",
    "\n",
    "# Plot the confusion matrix with customized color\n",
    "disp = plot_confusion_matrix(rfc, X_test, y_test, cmap=plt.cm.Blues)\n",
    "disp.ax_.set_title(\"Confusion Matrix\", color=\"black\", weight=\"bold\")\n",
    "plt.show()"
   ]
  },
  {
   "cell_type": "markdown",
   "id": "9e93b85b",
   "metadata": {},
   "source": [
    "## 2. SUPPORT VECTOR MACHINES"
   ]
  },
  {
   "cell_type": "code",
   "execution_count": 33,
   "id": "cb8c930f",
   "metadata": {},
   "outputs": [],
   "source": [
    "from sklearn.svm import SVC\n",
    "\n",
    "# Define the SVC classifier with specific parameters\n",
    "svc = SVC(C=100, kernel='poly', gamma=0.01, decision_function_shape='ovo')\n"
   ]
  },
  {
   "cell_type": "code",
   "execution_count": 34,
   "id": "a3c4db08",
   "metadata": {},
   "outputs": [],
   "source": [
    "# Train the SVC classifier\n",
    "svc.fit(X_train, y_train)\n",
    "\n",
    "# Make predictions on the test set\n",
    "y_test_pred = svc.predict(X_test)\n",
    "\n",
    "# Calculate evaluation metrics\n",
    "f1_macro = f1_score(y_test, y_test_pred, average='macro')\n",
    "confusion_mtx = confusion_matrix(y_test, y_test_pred)\n",
    "accuracy = accuracy_score(y_test, y_test_pred)\n"
   ]
  },
  {
   "cell_type": "code",
   "execution_count": 35,
   "id": "f7be13fb",
   "metadata": {},
   "outputs": [
    {
     "name": "stdout",
     "output_type": "stream",
     "text": [
      "F1 Macro Score: 0.8579067990832696\n",
      "Confusion Matrix:\n",
      "[[12  0  0  0  0  0]\n",
      " [ 0 12  0  0  0  0]\n",
      " [ 0  4  6  0  0  1]\n",
      " [ 0  0  0 12  2  0]\n",
      " [ 0  0  0  2  9  0]\n",
      " [ 0  0  0  0  0  5]]\n",
      "Accuracy Score: 0.8615384615384616\n"
     ]
    },
    {
     "data": {
      "image/png": "[encoded data removed]",
      "text/plain": [
       "<Figure size 640x480 with 2 Axes>"
      ]
     },
     "metadata": {},
     "output_type": "display_data"
    }
   ],
   "source": [
    "# Print the evaluation metrics\n",
    "print(\"F1 Macro Score:\", f1_macro)\n",
    "print(\"Confusion Matrix:\")\n",
    "print(confusion_mtx)\n",
    "print(\"Accuracy Score:\", accuracy)\n",
    "\n",
    "# Plot the confusion matrix with customized color\n",
    "disp = plot_confusion_matrix(svc, X_test, y_test, cmap=plt.cm.Blues)\n",
    "disp.ax_.set_title(\"Confusion Matrix\", color=\"black\", weight=\"bold\")\n",
    "plt.show()\n"
   ]
  },
  {
   "cell_type": "markdown",
   "id": "93ea67e1",
   "metadata": {},
   "source": [
    "## K-NEAREST NEIGHBORS CLASSIFIERS"
   ]
  },
  {
   "cell_type": "code",
   "execution_count": 36,
   "id": "46865b07",
   "metadata": {},
   "outputs": [],
   "source": [
    "from sklearn.neighbors import KNeighborsClassifier\n",
    "\n",
    "# Define the KNN classifier with specific parameters\n",
    "knn = KNeighborsClassifier(metric='minkowski', algorithm='auto', n_neighbors=10, p=2, weights='distance', leaf_size=5)"
   ]
  },
  {
   "cell_type": "code",
   "execution_count": 37,
   "id": "9d412ed0",
   "metadata": {},
   "outputs": [],
   "source": [
    "# Train the KNN classifier\n",
    "knn.fit(X_train, y_train)\n",
    "\n",
    "# Make predictions on the test set\n",
    "y_test_pred = knn.predict(X_test)\n",
    "\n",
    "# Calculate evaluation metrics\n",
    "f1_macro = f1_score(y_test, y_test_pred, average='macro')\n",
    "confusion_mtx = confusion_matrix(y_test, y_test_pred)\n",
    "accuracy = accuracy_score(y_test, y_test_pred)"
   ]
  },
  {
   "cell_type": "code",
   "execution_count": 38,
   "id": "3ba22e50",
   "metadata": {},
   "outputs": [
    {
     "name": "stdout",
     "output_type": "stream",
     "text": [
      "F1 Macro Score: 0.9164426877470356\n",
      "Confusion Matrix:\n",
      "[[12  0  0  0  0  0]\n",
      " [ 0 10  2  0  0  0]\n",
      " [ 1  0 10  0  0  0]\n",
      " [ 0  0  0 11  3  0]\n",
      " [ 0  0  0  0 11  0]\n",
      " [ 0  0  0  0  0  5]]\n",
      "Accuracy Score: 0.9076923076923077\n"
     ]
    },
    {
     "data": {
      "image/png": "[encoded data removed]",
      "text/plain": [
       "<Figure size 640x480 with 2 Axes>"
      ]
     },
     "metadata": {},
     "output_type": "display_data"
    }
   ],
   "source": [
    "# Print the evaluation metrics\n",
    "print(\"F1 Macro Score:\", f1_macro)\n",
    "print(\"Confusion Matrix:\")\n",
    "print(confusion_mtx)\n",
    "print(\"Accuracy Score:\", accuracy)\n",
    "\n",
    "# Plot the confusion matrix with customized color\n",
    "disp = plot_confusion_matrix(knn, X_test, y_test, cmap=plt.cm.Blues)\n",
    "disp.ax_.set_title(\"Confusion Matrix\", color=\"black\", weight=\"bold\")\n",
    "plt.show()"
   ]
  },
  {
   "cell_type": "markdown",
   "id": "9cbe19ec",
   "metadata": {},
   "source": [
    "## DECISION TREE CLASSIFIERS"
   ]
  },
  {
   "cell_type": "code",
   "execution_count": 39,
   "id": "6026882d",
   "metadata": {},
   "outputs": [],
   "source": [
    "from sklearn.tree import DecisionTreeClassifier\n",
    "\n",
    "# Define the Decision Tree classifier with specific parameters\n",
    "dt = DecisionTreeClassifier(\n",
    "    criterion='entropy', max_depth=50, max_features=5, max_leaf_nodes=50, min_samples_split=2\n",
    ")"
   ]
  },
  {
   "cell_type": "code",
   "execution_count": 40,
   "id": "66b56812",
   "metadata": {},
   "outputs": [],
   "source": [
    "# Train the Decision Tree classifier\n",
    "dt.fit(X_train, y_train)\n",
    "\n",
    "# Make predictions on the test set\n",
    "y_test_pred = dt.predict(X_test)\n",
    "\n",
    "# Calculate evaluation metrics\n",
    "f1_macro = f1_score(y_test, y_test_pred, average='macro')\n",
    "confusion_mtx = confusion_matrix(y_test, y_test_pred)\n",
    "accuracy = accuracy_score(y_test, y_test_pred)"
   ]
  },
  {
   "cell_type": "code",
   "execution_count": 41,
   "id": "c60159f6",
   "metadata": {},
   "outputs": [
    {
     "name": "stdout",
     "output_type": "stream",
     "text": [
      "F1 Macro Score: 0.6588924360663491\n",
      "Confusion Matrix:\n",
      "[[ 9  0  0  0  0  3]\n",
      " [ 0  5  7  0  0  0]\n",
      " [ 2  3  5  0  0  1]\n",
      " [ 0  0  1 10  2  1]\n",
      " [ 0  0  0  2  9  0]\n",
      " [ 0  0  0  0  0  5]]\n",
      "Accuracy Score: 0.6615384615384615\n"
     ]
    },
    {
     "data": {
      "image/png": "[encoded data removed]",
      "text/plain": [
       "<Figure size 640x480 with 2 Axes>"
      ]
     },
     "metadata": {},
     "output_type": "display_data"
    }
   ],
   "source": [
    "# Print the evaluation metrics\n",
    "print(\"F1 Macro Score:\", f1_macro)\n",
    "print(\"Confusion Matrix:\")\n",
    "print(confusion_mtx)\n",
    "print(\"Accuracy Score:\", accuracy)\n",
    "\n",
    "# Plot the confusion matrix with customized color\n",
    "disp = plot_confusion_matrix(dt, X_test, y_test, cmap=plt.cm.Blues)\n",
    "disp.ax_.set_title(\"Confusion Matrix\", color=\"black\", weight=\"bold\")\n",
    "plt.show()"
   ]
  },
  {
   "cell_type": "markdown",
   "id": "2c7fb522",
   "metadata": {},
   "source": [
    "## RESULTS AND CONCLUSION"
   ]
  },
  {
   "cell_type": "markdown",
   "id": "a2757fa1",
   "metadata": {},
   "source": [
    "Comparing the results shown above, it indicates that the K-Nearest Neighbor Classifier (KNN) had the best performance with an accuracy of 91% and F1-Score of 92%. This was followed closely by the Random Forest Classifier (RFC) with an accuracy of 89% and F1- Score of 90%.  The Support Vector Machine (SVM) model gives an accuracy of 86% with an F1- Score of 86% while the model with the least performance was the Decision Tree with an accuracy of 66% and F1- Score of 66% respectively. \n",
    "\n",
    "The results obtained from the models show that Machine Learning has significant potential to be used in accurately and precisely categorizing hand gestures through the EMG signals. The K-Nearest Neighbor had the highest performance followed by the Random Forest Classifier (RFC) then Support Vector Machine (SVM) and the Decision Tree having the least performance.\n",
    "\n",
    "In conclusion, the use of wearable technology devices to recognize hand gestures using the EMG signals shows significant potential for various applications such as Virtual Reality, Human- Computer Interaction, Rehabilitation etc. The use of machine learning algorithms for creating precise and accurate hand gestures recognition systems can lead to the development of other future applications that would be useful to humans. \n"
   ]
  },
  {
   "cell_type": "code",
   "execution_count": null,
   "id": "2b1019d8",
   "metadata": {},
   "outputs": [],
   "source": []
  }
 ],
 "metadata": {
  "kernelspec": {
   "display_name": "Python 3 (ipykernel)",
   "language": "python",
   "name": "python3"
  },
  "language_info": {
   "codemirror_mode": {
    "name": "ipython",
    "version": 3
   },
   "file_extension": ".py",
   "mimetype": "text/x-python",
   "name": "python",
   "nbconvert_exporter": "python",
   "pygments_lexer": "ipython3",
   "version": "3.9.13"
  }
 },
 "nbformat": 4,
 "nbformat_minor": 5
}
